{
 "cells": [
  {
   "cell_type": "markdown",
   "metadata": {},
   "source": [
    "# Think before you execute"
   ]
  },
  {
   "cell_type": "markdown",
   "metadata": {},
   "source": [
    "Try to figure out, what the following code snippets do, without executing them! Write down your answer. Then check your answer by executing the code. \n",
    "\n",
    "A great resource for exceuting snippets of code is also [pythontutor.com](http://pythontutor.com/). You can c&p your snippets to their website and execute through them step by step. At every step all used variables are updated and displayed."
   ]
  },
  {
   "cell_type": "code",
   "execution_count": 1,
   "metadata": {},
   "outputs": [
    {
     "name": "stdout",
     "output_type": "stream",
     "text": [
      "2 5\n",
      "7 5\n",
      "7 3\n",
      "10 3\n",
      "10 1\n",
      "11 1\n",
      "12\n"
     ]
    }
   ],
   "source": [
    "a = 2\n",
    "for k in [5,3,1]:\n",
    "    print(a,k)\n",
    "    a = a + k\n",
    "    print(a,k)\n",
    "a = a + k\n",
    "print(a)"
   ]
  },
  {
   "cell_type": "markdown",
   "metadata": {},
   "source": [
    "Do the same for the following snippet. What changes, if you indent/de-indent the fourth/fifth line by one level?"
   ]
  },
  {
   "cell_type": "code",
   "execution_count": 2,
   "metadata": {},
   "outputs": [
    {
     "name": "stdout",
     "output_type": "stream",
     "text": [
      "highest indentation level\n",
      "3 0\n",
      "4\n"
     ]
    }
   ],
   "source": [
    "a = 2\n",
    "for k in [5,3,1]:\n",
    "    #if you have an if, the thing between the if and the colon is a condition. TRUE or FALSE\n",
    "    if k == 3:\n",
    "        a=0\n",
    "        print(\"highest indentation level\")\n",
    "        print(k,a)\n",
    "    a = a + k\n",
    "print(a)"
   ]
  },
  {
   "cell_type": "markdown",
   "metadata": {},
   "source": [
    "## Indexing\n",
    "\n",
    "What is the result of the following snippets?"
   ]
  },
  {
   "cell_type": "code",
   "execution_count": 3,
   "metadata": {},
   "outputs": [
    {
     "name": "stdout",
     "output_type": "stream",
     "text": [
      "[1, 4, 3, 4, 5, 6, 49, 8]\n"
     ]
    },
    {
     "data": {
      "text/plain": [
       "['b']"
      ]
     },
     "execution_count": 3,
     "metadata": {},
     "output_type": "execute_result"
    }
   ],
   "source": [
    "myrange = list(range(10))\n",
    "for i in [2,7]:\n",
    "    myrange[i] = i**2\n",
    "mylist = myrange[1:-1]\n",
    "print(mylist)\n",
    "\n",
    "l = ['a', 'b', 'c', 'd']\n",
    "l[1:2]"
   ]
  },
  {
   "cell_type": "code",
   "execution_count": 1,
   "metadata": {
    "scrolled": true
   },
   "outputs": [
    {
     "name": "stdout",
     "output_type": "stream",
     "text": [
      "[0, 1, 4, 9, 16, 25, 36, 49, 64, 81, 100]\n",
      "[9, 16, 25, 36]\n",
      "[0, 4, 16, 36, 64, 100]\n",
      "[100, 64, 36, 16, 4, 0]\n",
      "[16, 4, 0]\n"
     ]
    },
    {
     "ename": "NameError",
     "evalue": "name 'a' is not defined",
     "output_type": "error",
     "traceback": [
      "\u001b[1;31m---------------------------------------------------------------------------\u001b[0m",
      "\u001b[1;31mNameError\u001b[0m                                 Traceback (most recent call last)",
      "\u001b[1;32m<ipython-input-1-8506bf17c634>\u001b[0m in \u001b[0;36m<module>\u001b[1;34m\u001b[0m\n\u001b[0;32m      9\u001b[0m \u001b[0mprint\u001b[0m\u001b[1;33m(\u001b[0m\u001b[0mmylist\u001b[0m\u001b[1;33m[\u001b[0m\u001b[1;36m4\u001b[0m\u001b[1;33m:\u001b[0m\u001b[1;33m:\u001b[0m\u001b[1;33m-\u001b[0m\u001b[1;36m2\u001b[0m\u001b[1;33m]\u001b[0m\u001b[1;33m)\u001b[0m\u001b[1;33m\u001b[0m\u001b[1;33m\u001b[0m\u001b[0m\n\u001b[0;32m     10\u001b[0m \u001b[1;33m\u001b[0m\u001b[0m\n\u001b[1;32m---> 11\u001b[1;33m \u001b[0mmylist\u001b[0m\u001b[1;33m[\u001b[0m\u001b[0ma\u001b[0m\u001b[1;33m,\u001b[0m\u001b[0mb\u001b[0m\u001b[1;33m,\u001b[0m\u001b[0mc\u001b[0m\u001b[1;33m]\u001b[0m\u001b[1;33m\u001b[0m\u001b[1;33m\u001b[0m\u001b[0m\n\u001b[0m",
      "\u001b[1;31mNameError\u001b[0m: name 'a' is not defined"
     ]
    }
   ],
   "source": [
    "mylist = []\n",
    "for i in range(11):\n",
    "    mylist.append(i**2)\n",
    "print(mylist)\n",
    "print(mylist[3:7])\n",
    "#every second element\n",
    "print(mylist[::2])\n",
    "print(mylist[::-2])\n",
    "print(mylist[4::-2])\n",
    "\n",
    "mylist[a,b,c]"
   ]
  },
  {
   "cell_type": "markdown",
   "metadata": {},
   "source": [
    "## Summation\n",
    "\n",
    "Calculate the sum \n",
    "\\begin{equation}\n",
    "\\sum_{i=1}^{100} \\frac{1}{i}\n",
    "\\end{equation}\n",
    "in two different ways, first with a `for` loop and then using a `while` loop.  Which one do you prefer?"
   ]
  },
  {
   "cell_type": "code",
   "execution_count": null,
   "metadata": {
    "deletable": false,
    "nbgrader": {
     "cell_type": "code",
     "checksum": "061dd846f0f6eecd911ad05ca3163186",
     "grade": true,
     "grade_id": "cell-a0c8d50fe83c73c0",
     "locked": false,
     "points": 0,
     "schema_version": 3,
     "solution": true
    }
   },
   "outputs": [],
   "source": [
    "sum = 0\n",
    "\n",
    "for i in range(1,101):\n",
    "    sum = sum + 1/i\n",
    "    \n",
    "print(sum)"
   ]
  },
  {
   "cell_type": "code",
   "execution_count": null,
   "metadata": {
    "deletable": false,
    "nbgrader": {
     "cell_type": "code",
     "checksum": "346dd3bd5a763a1680822a7ac3e82b42",
     "grade": true,
     "grade_id": "cell-a0c8d50fe83c5s3c0",
     "locked": false,
     "points": 0,
     "schema_version": 3,
     "solution": true
    }
   },
   "outputs": [],
   "source": []
  },
  {
   "cell_type": "markdown",
   "metadata": {},
   "source": [
    "## Factorials\n",
    "write a loop which prints out \n",
    "\n",
    "    0! = 1\n",
    "    1! = 1\n",
    "    2! = 2\n",
    "    \n",
    "and so on until $10!$"
   ]
  },
  {
   "cell_type": "code",
   "execution_count": null,
   "metadata": {
    "deletable": false,
    "nbgrader": {
     "cell_type": "code",
     "checksum": "bfdb0d2c6b5b55e80715c54813ffaff9",
     "grade": true,
     "grade_id": "cell-350f41fbef7b858f",
     "locked": false,
     "points": 0,
     "schema_version": 3,
     "solution": true
    }
   },
   "outputs": [],
   "source": [
    "# YOUR CODE HERE\n",
    "raise NotImplementedError()"
   ]
  },
  {
   "cell_type": "markdown",
   "metadata": {},
   "source": [
    "Now calculate\n",
    "\\begin{equation}\n",
    "\\sum_{i=0}^{10} \\frac{1}{i!} \\approx e\n",
    "\\end{equation}"
   ]
  },
  {
   "cell_type": "code",
   "execution_count": null,
   "metadata": {
    "deletable": false,
    "nbgrader": {
     "cell_type": "code",
     "checksum": "68f3aa4ffa21d35075829ea7d4e49b84",
     "grade": true,
     "grade_id": "cell-f42dbb0244998497",
     "locked": false,
     "points": 0,
     "schema_version": 3,
     "solution": true
    }
   },
   "outputs": [],
   "source": [
    "# YOUR CODE HERE\n",
    "raise NotImplementedError()"
   ]
  },
  {
   "cell_type": "markdown",
   "metadata": {},
   "source": [
    "Also try\n",
    "\\begin{equation}\n",
    "\\sum_{i=0}^{10} \\frac{2^i}{i!} \\approx e^2\n",
    "\\end{equation}"
   ]
  },
  {
   "cell_type": "code",
   "execution_count": null,
   "metadata": {
    "deletable": false,
    "nbgrader": {
     "cell_type": "code",
     "checksum": "f4639c15904a4da95ab39afc27033644",
     "grade": true,
     "grade_id": "cell-81a21f20029eaaf9",
     "locked": false,
     "points": 0,
     "schema_version": 3,
     "solution": true
    }
   },
   "outputs": [],
   "source": [
    "# YOUR CODE HERE\n",
    "raise NotImplementedError()"
   ]
  },
  {
   "cell_type": "markdown",
   "metadata": {},
   "source": [
    "## Double loop\n",
    "\n",
    "try to guess the output of the following snippet, before you execute the cell:"
   ]
  },
  {
   "cell_type": "code",
   "execution_count": null,
   "metadata": {},
   "outputs": [],
   "source": [
    "for i in range(3):\n",
    "    for j in range(3):\n",
    "        print(i,j)\n",
    "    "
   ]
  },
  {
   "cell_type": "markdown",
   "metadata": {},
   "source": [
    "Now use Python to calculate\n",
    "\\begin{equation}\n",
    "\\sum_{i=1}^{10} \\sum_{j=1}^{10} \\frac{1}{i+j}\n",
    "\\end{equation}"
   ]
  },
  {
   "cell_type": "code",
   "execution_count": null,
   "metadata": {
    "deletable": false,
    "nbgrader": {
     "cell_type": "code",
     "checksum": "951eebd5de9ba6215809c7ef9b173bc6",
     "grade": true,
     "grade_id": "cell-ffb0c361c01bcf7c",
     "locked": false,
     "points": 0,
     "schema_version": 3,
     "solution": true
    }
   },
   "outputs": [],
   "source": [
    "# YOUR CODE HERE\n",
    "raise NotImplementedError()"
   ]
  },
  {
   "cell_type": "markdown",
   "metadata": {},
   "source": [
    "Write a function `inv_sum(n,m)` which returns the value\n",
    "\\begin{equation}\n",
    "\\sum_{i=1}^{n} \\sum_{j=1}^{m} \\frac{1}{i+j}\n",
    "\\end{equation}"
   ]
  },
  {
   "cell_type": "code",
   "execution_count": null,
   "metadata": {
    "deletable": false,
    "nbgrader": {
     "cell_type": "code",
     "checksum": "a2597381fe0e7c99ee83f66c9d5d7d02",
     "grade": true,
     "grade_id": "cell-4035e536ef087ba3",
     "locked": false,
     "points": 0,
     "schema_version": 3,
     "solution": true,
     "task": false
    }
   },
   "outputs": [],
   "source": [
    "# YOUR CODE HERE\n",
    "raise NotImplementedError()"
   ]
  },
  {
   "cell_type": "markdown",
   "metadata": {},
   "source": [
    "## [Fibonacci words](https://en.wikipedia.org/wiki/Fibonacci_word)\n",
    "\n",
    "consider a sequence $S_n$ of words which is made up of words of the two letters `0` and `1` according to the following rules:\n",
    "\n",
    "- $S_0 = 0$\n",
    "- $S_1 = 01$\n",
    "- $S_2 = S_1 S_0 = 010$\n",
    "- $\\ldots$\n",
    "- $S_n = S_{n-1}S_{n-2}$\n",
    "\n",
    "calculate a list of the first 15 Fibonacci words"
   ]
  },
  {
   "cell_type": "code",
   "execution_count": null,
   "metadata": {
    "deletable": false,
    "nbgrader": {
     "cell_type": "code",
     "checksum": "69a8cf42e420696f90287cd78734ccc5",
     "grade": true,
     "grade_id": "cell-3d586c1963510057",
     "locked": false,
     "points": 0,
     "schema_version": 3,
     "solution": true
    }
   },
   "outputs": [],
   "source": [
    "# YOUR CODE HERE\n",
    "raise NotImplementedError()"
   ]
  },
  {
   "cell_type": "markdown",
   "metadata": {},
   "source": [
    "# Guess before you execute"
   ]
  },
  {
   "cell_type": "code",
   "execution_count": null,
   "metadata": {},
   "outputs": [],
   "source": [
    "mylist = []\n",
    "for k in range(10):\n",
    "    if k % 2 == 0:\n",
    "        mylist.append(k)\n",
    "    elif k % 3 == 0:\n",
    "        mylist.append(k)\n",
    "print(mylist)"
   ]
  },
  {
   "cell_type": "markdown",
   "metadata": {},
   "source": [
    "Explain, how this works!  Now compare with the following two snippets:"
   ]
  },
  {
   "cell_type": "code",
   "execution_count": null,
   "metadata": {},
   "outputs": [],
   "source": [
    "mylist = []\n",
    "for k in range(10):\n",
    "    if k % 2 == 0 or k % 3 == 0:\n",
    "        mylist.append(k)\n",
    "print(mylist)"
   ]
  },
  {
   "cell_type": "code",
   "execution_count": null,
   "metadata": {},
   "outputs": [],
   "source": [
    "mylist = []\n",
    "for k in range(10):\n",
    "    if not ((k % 2) and (k % 3)):\n",
    "        mylist.append(k)\n",
    "print(mylist)"
   ]
  }
 ],
 "metadata": {
  "kernelspec": {
   "display_name": "Python 3",
   "language": "python",
   "name": "python3"
  },
  "language_info": {
   "codemirror_mode": {
    "name": "ipython",
    "version": 3
   },
   "file_extension": ".py",
   "mimetype": "text/x-python",
   "name": "python",
   "nbconvert_exporter": "python",
   "pygments_lexer": "ipython3",
   "version": "3.7.3"
  }
 },
 "nbformat": 4,
 "nbformat_minor": 1
}
