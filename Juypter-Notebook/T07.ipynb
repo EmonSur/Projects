{
 "cells": [
  {
   "cell_type": "code",
   "execution_count": 1,
   "metadata": {},
   "outputs": [],
   "source": [
    "# execute this cell before you start the tutorial\n",
    "import numpy as np\n",
    "import matplotlib.pyplot as plt\n",
    "import sympy as sym\n",
    "\n",
    "from ipywidgets import interact\n",
    "\n",
    "sym.init_printing(use_latex=\"mathjax\")\n",
    "x, y, z, t = sym.symbols('x y z t')"
   ]
  },
  {
   "cell_type": "markdown",
   "metadata": {},
   "source": [
    "# Q1 Symbolic Calculations"
   ]
  },
  {
   "cell_type": "markdown",
   "metadata": {},
   "source": [
    "Use `sympy` to calculate the following:\n",
    "\n",
    "a) $$\\int\\frac{1}{x}dx$$"
   ]
  },
  {
   "cell_type": "code",
   "execution_count": 17,
   "metadata": {
    "deletable": false,
    "nbgrader": {
     "cell_type": "code",
     "checksum": "ab10688f2ca900295274e5c1972a6dae",
     "grade": true,
     "grade_id": "cell-2a0174cae883874c",
     "locked": false,
     "points": 0,
     "schema_version": 3,
     "solution": true
    }
   },
   "outputs": [
    {
     "data": {
      "text/latex": [
       "$\\displaystyle \\int \\frac{1}{x^{2}}\\, dx = - \\frac{1}{x}$"
      ],
      "text/plain": [
       "⌠            \n",
       "⎮ 1       -1 \n",
       "⎮ ── dx = ───\n",
       "⎮  2       x \n",
       "⎮ x          \n",
       "⌡            "
      ]
     },
     "execution_count": 17,
     "metadata": {},
     "output_type": "execute_result"
    }
   ],
   "source": [
    "sym.Eq(sym.Integral( 1/x**2, x), sym.Integral( 1/x**2, x).doit() )"
   ]
  },
  {
   "cell_type": "markdown",
   "metadata": {},
   "source": [
    "b) $$\\int_2^5\\frac{1}{x}$$"
   ]
  },
  {
   "cell_type": "code",
   "execution_count": 21,
   "metadata": {
    "deletable": false,
    "nbgrader": {
     "cell_type": "code",
     "checksum": "178599f8812e4c79c62046c4f3dec900",
     "grade": true,
     "grade_id": "cell-ce2a40ea8867d591",
     "locked": false,
     "points": 0,
     "schema_version": 3,
     "solution": true
    }
   },
   "outputs": [
    {
     "data": {
      "text/latex": [
       "$\\displaystyle \\int\\limits_{2}^{5} \\frac{1}{x}\\, dx = \\log{\\left(\\frac{5}{2} \\right)}$"
      ],
      "text/plain": [
       "5                \n",
       "⌠                \n",
       "⎮ 1              \n",
       "⎮ ─ dx = log(5/2)\n",
       "⎮ x              \n",
       "⌡                \n",
       "2                "
      ]
     },
     "execution_count": 21,
     "metadata": {},
     "output_type": "execute_result"
    }
   ],
   "source": [
    "expr = sym.Integral( 1/x, (x,2,5))\n",
    "sym.Eq(expr, expr.doit().simplify() )"
   ]
  },
  {
   "cell_type": "markdown",
   "metadata": {},
   "source": [
    "c) $$\\int_2^\\infty\\frac{1}{x}$$\n",
    "\n",
    "(don't use `Eq()` for this one)"
   ]
  },
  {
   "cell_type": "code",
   "execution_count": 29,
   "metadata": {
    "deletable": false,
    "nbgrader": {
     "cell_type": "code",
     "checksum": "cab0b06c9c5178310a3d4b12e7d240a5",
     "grade": true,
     "grade_id": "cell-2c78fb2c20bd3bda",
     "locked": false,
     "points": 0,
     "schema_version": 3,
     "solution": true
    }
   },
   "outputs": [
    {
     "data": {
      "text/latex": [
       "$\\displaystyle \\infty$"
      ],
      "text/plain": [
       "∞"
      ]
     },
     "execution_count": 29,
     "metadata": {},
     "output_type": "execute_result"
    }
   ],
   "source": [
    "expr = sym.Integral( 1/x, (x,2,sym.oo))\n",
    "expr.doit().simplify()"
   ]
  },
  {
   "cell_type": "markdown",
   "metadata": {},
   "source": [
    "d) $$\\int_2^\\infty\\frac{1}{x^2}$$"
   ]
  },
  {
   "cell_type": "code",
   "execution_count": 27,
   "metadata": {
    "deletable": false,
    "nbgrader": {
     "cell_type": "code",
     "checksum": "4f85acc5cf4043c071735e871be488fe",
     "grade": true,
     "grade_id": "cell-c62b96687d718acc",
     "locked": false,
     "points": 0,
     "schema_version": 3,
     "solution": true
    }
   },
   "outputs": [
    {
     "data": {
      "text/latex": [
       "$\\displaystyle \\int\\limits_{2}^{\\infty} \\frac{1}{x^{2}}\\, dx = \\frac{1}{2}$"
      ],
      "text/plain": [
       "∞            \n",
       "⌠            \n",
       "⎮ 1          \n",
       "⎮ ── dx = 1/2\n",
       "⎮  2         \n",
       "⎮ x          \n",
       "⌡            \n",
       "2            "
      ]
     },
     "execution_count": 27,
     "metadata": {},
     "output_type": "execute_result"
    }
   ],
   "source": [
    "expr = sym.Integral( 1/x**2, (x,2,sym.oo))\n",
    "sym.Eq(expr, expr.doit().simplify() )"
   ]
  },
  {
   "cell_type": "markdown",
   "metadata": {},
   "source": [
    "e) \\begin{equation}\n",
    "\\int_{-\\infty}^{\\infty} \\frac{1}{\\left( x^2 + 16 \\right)^{ \\frac{3}{2} }}\n",
    "\\end{equation}"
   ]
  },
  {
   "cell_type": "code",
   "execution_count": 55,
   "metadata": {
    "deletable": false,
    "nbgrader": {
     "cell_type": "code",
     "checksum": "e56cf2d3111bf3846bb9af837c926363",
     "grade": true,
     "grade_id": "cell-9f9a518142a95779",
     "locked": false,
     "points": 0,
     "schema_version": 3,
     "solution": true
    }
   },
   "outputs": [
    {
     "data": {
      "text/latex": [
       "$\\displaystyle \\int\\limits_{-\\infty}^{\\infty} \\frac{1}{\\left(x^{2} + 16\\right)^{\\frac{3}{2}}}\\, dx = \\frac{1}{8}$"
      ],
      "text/plain": [
       "∞                       \n",
       "⌠                       \n",
       "⎮       1               \n",
       "⎮  ──────────── dx = 1/8\n",
       "⎮           3/2         \n",
       "⎮  ⎛ 2     ⎞            \n",
       "⎮  ⎝x  + 16⎠            \n",
       "⌡                       \n",
       "-∞                      "
      ]
     },
     "execution_count": 55,
     "metadata": {},
     "output_type": "execute_result"
    }
   ],
   "source": [
    "Intergrand = 1 / sym.sqrt(x**2 + 16)**3\n",
    "expr = sym.Integral(Intergrand, (x, -sym.oo, sym.oo) )\n",
    "sym.Eq(expr, expr.doit())"
   ]
  },
  {
   "cell_type": "markdown",
   "metadata": {},
   "source": [
    "f) $$\\frac{d^4}{d x^4}\\frac{x^2}{\\sqrt{x^2+4}}$$"
   ]
  },
  {
   "cell_type": "code",
   "execution_count": 54,
   "metadata": {
    "deletable": false,
    "nbgrader": {
     "cell_type": "code",
     "checksum": "c69166744153021dc0a334dd0eb3a5a5",
     "grade": true,
     "grade_id": "cell-cc0f3f91e5bffe39",
     "locked": false,
     "points": 0,
     "schema_version": 3,
     "solution": true
    }
   },
   "outputs": [
    {
     "data": {
      "text/latex": [
       "$\\displaystyle \\frac{d^{4}}{d x^{4}} \\frac{x^{2}}{\\sqrt{x^{2} + 4}} = \\frac{- 48 x^{4} + 1296 x^{2} - 768}{\\sqrt{x^{2} + 4} \\left(x^{8} + 16 x^{6} + 96 x^{4} + 256 x^{2} + 256\\right)}$"
      ],
      "text/plain": [
       "  4⎛      2    ⎞                     4         2                  \n",
       " d ⎜     x     ⎟               - 48⋅x  + 1296⋅x  - 768            \n",
       "───⎜───────────⎟ = ───────────────────────────────────────────────\n",
       "  4⎜   ________⎟      ________                                    \n",
       "dx ⎜  ╱  2     ⎟     ╱  2      ⎛ 8       6       4        2      ⎞\n",
       "   ⎝╲╱  x  + 4 ⎠   ╲╱  x  + 4 ⋅⎝x  + 16⋅x  + 96⋅x  + 256⋅x  + 256⎠"
      ]
     },
     "execution_count": 54,
     "metadata": {},
     "output_type": "execute_result"
    }
   ],
   "source": [
    "myfunction = x**2 / sym.sqrt(x**2 + 4)\n",
    "expr = sym.Derivative(myfunction, x, 4)\n",
    "sym.Eq(expr, expr.doit().simplify() )"
   ]
  },
  {
   "cell_type": "markdown",
   "metadata": {},
   "source": [
    "g) $$\\left.\\frac{d^4}{d x^4}\\frac{x^2}{\\sqrt{x^2+4}}\\right|_{x=5}$$"
   ]
  },
  {
   "cell_type": "code",
   "execution_count": 66,
   "metadata": {
    "deletable": false,
    "nbgrader": {
     "cell_type": "code",
     "checksum": "270d5ae563e0824467d1771ed6807a95",
     "grade": true,
     "grade_id": "cell-e2653fcffe255e60",
     "locked": false,
     "points": 0,
     "schema_version": 3,
     "solution": true
    }
   },
   "outputs": [
    {
     "data": {
      "text/latex": [
       "$\\displaystyle 0.000428478627172155$"
      ],
      "text/plain": [
       "0.000428478627172155"
      ]
     },
     "execution_count": 66,
     "metadata": {},
     "output_type": "execute_result"
    }
   ],
   "source": [
    "myfunction = x**2 / sym.sqrt(x**2 + 4)\n",
    "expr = sym.Derivative(myfunction, x, 4).doit().simplify()\n",
    "expr.subs({x:5}) \n",
    "expr.evalf(subs = {x:5} )\n",
    "# sym.Eq(expr.subs({x : 5}), expr.subs({x : 5}).doit() )"
   ]
  },
  {
   "cell_type": "markdown",
   "metadata": {},
   "source": [
    "h) factorize $x^{16}-1$"
   ]
  },
  {
   "cell_type": "code",
   "execution_count": 68,
   "metadata": {
    "deletable": false,
    "nbgrader": {
     "cell_type": "code",
     "checksum": "cfb99c8f1d1e70e8cac1d14b93f4d188",
     "grade": true,
     "grade_id": "cell-c2b10ff20402b757",
     "locked": false,
     "points": 0,
     "schema_version": 3,
     "solution": true
    }
   },
   "outputs": [
    {
     "data": {
      "text/latex": [
       "$\\displaystyle \\left(x - 1\\right) \\left(x + 1\\right) \\left(x^{2} + 1\\right) \\left(x^{4} + 1\\right) \\left(x^{8} + 1\\right)$"
      ],
      "text/plain": [
       "                ⎛ 2    ⎞ ⎛ 4    ⎞ ⎛ 8    ⎞\n",
       "(x - 1)⋅(x + 1)⋅⎝x  + 1⎠⋅⎝x  + 1⎠⋅⎝x  + 1⎠"
      ]
     },
     "execution_count": 68,
     "metadata": {},
     "output_type": "execute_result"
    }
   ],
   "source": [
    "sym.factor(x**16 - 1)"
   ]
  },
  {
   "cell_type": "markdown",
   "metadata": {},
   "source": [
    "i) \\begin{equation}\n",
    "\\nabla \\frac{1}{|\\vec{x}|} = \\left(\n",
    "\\begin{array}{c}\n",
    "\\frac{\\partial}{\\partial x} \\\\\n",
    "\\frac{\\partial}{\\partial y} \\\\\n",
    "\\frac{\\partial}{\\partial z} \n",
    "\\end{array}\n",
    "\\right) \\frac{1}{\\sqrt{x^2 + y^2 + z^2} }\n",
    "\\end{equation}"
   ]
  },
  {
   "cell_type": "code",
   "execution_count": 75,
   "metadata": {
    "deletable": false,
    "nbgrader": {
     "cell_type": "code",
     "checksum": "01ca21a5ae21092c81c62084da4028ac",
     "grade": true,
     "grade_id": "cell-772f58685c16ba96",
     "locked": false,
     "points": 0,
     "schema_version": 3,
     "solution": true
    }
   },
   "outputs": [
    {
     "data": {
      "text/latex": [
       "$\\displaystyle - \\frac{x}{\\left(x^{2} + y^{2} + z^{2}\\right)^{\\frac{3}{2}}} - \\frac{y}{\\left(x^{2} + y^{2} + z^{2}\\right)^{\\frac{3}{2}}} - \\frac{z}{\\left(x^{2} + y^{2} + z^{2}\\right)^{\\frac{3}{2}}}$"
      ],
      "text/plain": [
       "          x                   y                   z        \n",
       "- ───────────────── - ───────────────── - ─────────────────\n",
       "                3/2                 3/2                 3/2\n",
       "  ⎛ 2    2    2⎞      ⎛ 2    2    2⎞      ⎛ 2    2    2⎞   \n",
       "  ⎝x  + y  + z ⎠      ⎝x  + y  + z ⎠      ⎝x  + y  + z ⎠   "
      ]
     },
     "execution_count": 75,
     "metadata": {},
     "output_type": "execute_result"
    }
   ],
   "source": [
    "inverselength = 1 / sym.sqrt(x**2 + y**2 + z**2)\n",
    "(inverselength.diff(x) + inverselength.diff(y) + inverselength.diff(z))"
   ]
  },
  {
   "cell_type": "markdown",
   "metadata": {},
   "source": [
    "j) \\begin{equation}\n",
    "\\Delta \\frac{1}{|\\vec{x}|} = \\left(\n",
    "\\frac{\\partial^2}{\\partial x^2} + \\frac{\\partial^2}{\\partial y^2} + \\frac{\\partial^2}{\\partial z^2} \n",
    "\\right) \\frac{1}{\\sqrt{x^2 + y^2 + z^2} }\n",
    "\\end{equation}"
   ]
  },
  {
   "cell_type": "code",
   "execution_count": 74,
   "metadata": {
    "deletable": false,
    "nbgrader": {
     "cell_type": "code",
     "checksum": "6612cad47577b317ec00305c4c4785c7",
     "grade": true,
     "grade_id": "cell-69a3e56e1e29ba41",
     "locked": false,
     "points": 0,
     "schema_version": 3,
     "solution": true
    }
   },
   "outputs": [
    {
     "data": {
      "text/latex": [
       "$\\displaystyle 0$"
      ],
      "text/plain": [
       "0"
      ]
     },
     "execution_count": 74,
     "metadata": {},
     "output_type": "execute_result"
    }
   ],
   "source": [
    "expr = inverselength.diff(x, 2) + inverselength.diff(y, 2) + inverselength.diff(z, 2)\n",
    "expr.simplify()"
   ]
  },
  {
   "cell_type": "markdown",
   "metadata": {},
   "source": [
    "k) Show that the function \\begin{equation}\n",
    "p(x,t) = \\frac{1}{\\sqrt{2\\pi t}}e^{-\\frac{x^2}{2t}}\n",
    "\\end{equation}\n",
    "fulfills the differential equation\n",
    "\\begin{equation}\n",
    "\\frac{\\partial}{\\partial t} p(x,t) = \\frac{1}{2}\\frac{\\partial^2}{\\partial x^2} p(x,t)\n",
    "\\end{equation}"
   ]
  },
  {
   "cell_type": "code",
   "execution_count": 84,
   "metadata": {
    "deletable": false,
    "nbgrader": {
     "cell_type": "code",
     "checksum": "de06fcd352f23e316a8f7f9eeddb2806",
     "grade": true,
     "grade_id": "cell-49abc4f8bd294f08",
     "locked": false,
     "points": 0,
     "schema_version": 3,
     "solution": true
    }
   },
   "outputs": [
    {
     "data": {
      "text/latex": [
       "$\\displaystyle \\left( - \\frac{\\sqrt{2} \\left(t x^{2} + 1\\right) e^{- \\frac{t x^{2}}{2}}}{4 \\sqrt{\\pi} t^{\\frac{3}{2}}}, \\  \\frac{0.25 \\sqrt{2} \\sqrt{t} \\left(t x^{2} - 1\\right) e^{- \\frac{t x^{2}}{2}}}{\\sqrt{\\pi}}\\right)$"
      ],
      "text/plain": [
       "⎛                    2                               2 ⎞\n",
       "⎜                -t⋅x                            -t⋅x  ⎟\n",
       "⎜                ──────                          ──────⎟\n",
       "⎜    ⎛   2    ⎞    2                 ⎛   2    ⎞    2   ⎟\n",
       "⎜-√2⋅⎝t⋅x  + 1⎠⋅ℯ         0.25⋅√2⋅√t⋅⎝t⋅x  - 1⎠⋅ℯ      ⎟\n",
       "⎜───────────────────────, ─────────────────────────────⎟\n",
       "⎜             3/2                       √π             ⎟\n",
       "⎝       4⋅√π⋅t                                         ⎠"
      ]
     },
     "execution_count": 84,
     "metadata": {},
     "output_type": "execute_result"
    }
   ],
   "source": [
    "p = (1 / sym.sqrt(2*sym.pi*t))*sym.exp(-x**2 / 2*t)\n",
    "p.diff(t).simplify(), 1/2 * p.diff(x, 2).simplify()\n",
    "# sym.Eq(p.diff(t), 1/2 * p.diff(x, 2)"
   ]
  },
  {
   "cell_type": "markdown",
   "metadata": {},
   "source": [
    "# Q2 [Laguerre Polynomials](https://en.wikipedia.org/wiki/Laguerre_polynomials)\n",
    "\n",
    "Laguerre Polynomials are defined by the following recurrence relation:\n",
    "\n",
    "\\begin{align}\n",
    "L_0(x) &= 1 \\\\\n",
    "L_1(x) &= 1 - x\\\\\n",
    "L_{k + 1}(x) &= \\frac{(2k + 1 - x)L_k(x) - k L_{k - 1}(x)}{k + 1}. \n",
    "\\end{align}\n",
    "\n",
    "a) Use Python to calculate the first 10 Laguerre polynomials.\n",
    "\n",
    "\n",
    "\n"
   ]
  },
  {
   "cell_type": "code",
   "execution_count": null,
   "metadata": {
    "deletable": false,
    "nbgrader": {
     "cell_type": "code",
     "checksum": "1502cd3d47e8a417ec34d832b5ca6e8c",
     "grade": true,
     "grade_id": "cell-f7df71c4a3a5f10d",
     "locked": false,
     "points": 0,
     "schema_version": 3,
     "solution": true,
     "task": false
    }
   },
   "outputs": [],
   "source": [
    "# YOUR CODE HERE\n",
    "raise NotImplementedError()"
   ]
  },
  {
   "cell_type": "markdown",
   "metadata": {},
   "source": [
    "b) Plot the first 10 Laguerre polynomials."
   ]
  },
  {
   "cell_type": "code",
   "execution_count": null,
   "metadata": {
    "deletable": false,
    "nbgrader": {
     "cell_type": "code",
     "checksum": "bbdd9b58c687eaa5481de64da295edba",
     "grade": true,
     "grade_id": "cell-ac7cd137e11556d2",
     "locked": false,
     "points": 0,
     "schema_version": 3,
     "solution": true,
     "task": false
    }
   },
   "outputs": [],
   "source": [
    "# YOUR CODE HERE\n",
    "raise NotImplementedError()"
   ]
  },
  {
   "cell_type": "markdown",
   "metadata": {},
   "source": [
    "c) compare the previously calculated Laguerre polynomials with the alternative formula\n",
    "$$ L_{n}(x)={\\frac {e^{x}}{n!}}{\\frac {d^{n}}{dx^{n}}}\\left(e^{-x}x^{n}\\right)$$"
   ]
  },
  {
   "cell_type": "code",
   "execution_count": null,
   "metadata": {
    "deletable": false,
    "nbgrader": {
     "cell_type": "code",
     "checksum": "6da8ecf7b2758bc1783a47403605100f",
     "grade": true,
     "grade_id": "cell-2c5ed440bb4db4c9",
     "locked": false,
     "points": 0,
     "schema_version": 3,
     "solution": true,
     "task": false
    }
   },
   "outputs": [],
   "source": [
    "# YOUR CODE HERE\n",
    "raise NotImplementedError()"
   ]
  }
 ],
 "metadata": {
  "kernelspec": {
   "display_name": "Python 3",
   "language": "python",
   "name": "python3"
  },
  "language_info": {
   "codemirror_mode": {
    "name": "ipython",
    "version": 3
   },
   "file_extension": ".py",
   "mimetype": "text/x-python",
   "name": "python",
   "nbconvert_exporter": "python",
   "pygments_lexer": "ipython3",
   "version": "3.8.8"
  }
 },
 "nbformat": 4,
 "nbformat_minor": 1
}
