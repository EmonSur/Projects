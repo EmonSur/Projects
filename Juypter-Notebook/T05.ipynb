{
 "cells": [
  {
   "cell_type": "code",
   "execution_count": 8,
   "metadata": {},
   "outputs": [],
   "source": [
    "import numpy as np\n",
    "import matplotlib.pyplot as plt"
   ]
  },
  {
   "cell_type": "markdown",
   "metadata": {
    "deletable": false,
    "editable": false,
    "nbgrader": {
     "cell_type": "markdown",
     "checksum": "ae176eef13d6dee671d646dc778af9c8",
     "grade": false,
     "grade_id": "cell-d75237a886a0afc2",
     "locked": true,
     "schema_version": 3,
     "solution": false
    }
   },
   "source": [
    "# 1. The Henon Sequence\n",
    "\n",
    "Consider the Henon sequence \n",
    "\n",
    "\\begin{equation}\n",
    "((x_0,y_0), (x_1,y_1), (x_2,y_2),\\ldots),\n",
    "\\end{equation}\n",
    "which consists of pairs of numbers, and is iteratively defined as follows:\n",
    "\n",
    "\\begin{align}\n",
    "x_0 &= 0\\\\\n",
    "y_0 &= 0\\\\\n",
    "x_{{n+1}}&=1-ax_{n}^{2}+y_{n}\n",
    "\\\\y_{{n+1}}&=bx_{n}.\n",
    "\\end{align}\n",
    "$a$ and $b$ are positive parameters.\n",
    "\n",
    "a) Write a Python function `henon_sequence(N, a=1.4, b=0.3)` which returns a numpy array of shape `(N,2)` of the first $N$ pairs of the Henon sequence for the classical parameters $a=1.4$ and $b=0.3$. Calculate `henon_sequence(10)`. "
   ]
  },
  {
   "cell_type": "code",
   "execution_count": 21,
   "metadata": {
    "deletable": false,
    "nbgrader": {
     "cell_type": "code",
     "checksum": "8885601345360003e25f4577ea8cbdbb",
     "grade": false,
     "grade_id": "4a",
     "locked": false,
     "schema_version": 3,
     "solution": true
    }
   },
   "outputs": [
    {
     "data": {
      "text/plain": [
       "array([[ 0. ,  0. ],\n",
       "       [ 1. ,  0. ],\n",
       "       [-0.4,  0.3]])"
      ]
     },
     "execution_count": 21,
     "metadata": {},
     "output_type": "execute_result"
    }
   ],
   "source": [
    "def henon_sequence(N, a=1.4, b=0.3):\n",
    "    henon = np.zeros((N,2))\n",
    "    for n in range(N - 1):\n",
    "        henon[n+1,0] = 1 - a * henon[n,0]**2 + henon[n,1]\n",
    "        henon[n+1,1] = b * henon[n,0]\n",
    "    return henon\n",
    "henon_sequence(3)\n",
    " "
   ]
  },
  {
   "cell_type": "code",
   "execution_count": 20,
   "metadata": {
    "deletable": false,
    "editable": false,
    "nbgrader": {
     "cell_type": "code",
     "checksum": "58f88f2957ce0ad25d67a91f8fdc469a",
     "grade": true,
     "grade_id": "cell-cb04af5990e7b859",
     "locked": true,
     "points": 2,
     "schema_version": 3,
     "solution": false
    }
   },
   "outputs": [],
   "source": [
    "np.testing.assert_allclose(henon_sequence(2)[-1],(1.0, 0.0))\n",
    "assert henon_sequence(10).shape == (10,2)"
   ]
  },
  {
   "cell_type": "markdown",
   "metadata": {
    "deletable": false,
    "editable": false,
    "nbgrader": {
     "cell_type": "markdown",
     "checksum": "77ff52e80960efe68838f0c4587e5402",
     "grade": false,
     "grade_id": "cell-20d8b5ec5e2c7143",
     "locked": true,
     "schema_version": 3,
     "solution": false
    }
   },
   "source": [
    "b) Plot the first 100000 pairs of the Henon sequence as red dots (use `markersize=0.1`) in an $x$-$y$ diagram. Do not use a loop. "
   ]
  },
  {
   "cell_type": "code",
   "execution_count": 24,
   "metadata": {
    "deletable": false,
    "nbgrader": {
     "cell_type": "code",
     "checksum": "97d69aff610252fca69073900f40d251",
     "grade": true,
     "grade_id": "cell-3b7f24ec0699c517",
     "locked": false,
     "points": 1,
     "schema_version": 3,
     "solution": true
    }
   },
   "outputs": [
    {
     "data": {
      "text/plain": [
       "[<matplotlib.lines.Line2D at 0x1f70b35bcf8>]"
      ]
     },
     "execution_count": 24,
     "metadata": {},
     "output_type": "execute_result"
    },
    {
     "data": {
      "image/png": "[encoded data removed]",
      "text/plain": [
       "<Figure size 432x288 with 1 Axes>"
      ]
     },
     "metadata": {
      "needs_background": "light"
     },
     "output_type": "display_data"
    }
   ],
   "source": [
    "plt.xlabel(\"x\")\n",
    "plt.ylabel(\"y\")\n",
    "plt.title(\"Henon Sequence\")\n",
    "\n",
    "henon = henon_sequence(100000)\n",
    "plt.plot(henon[:,0], henon[:,1], \".\", color  = \"red\", markersize = 0.1)"
   ]
  },
  {
   "cell_type": "markdown",
   "metadata": {
    "deletable": false,
    "editable": false,
    "nbgrader": {
     "cell_type": "markdown",
     "checksum": "d51bc59e4af983ee110f1f23e1a941a7",
     "grade": false,
     "grade_id": "cell-fe8c0930bd8a0de9",
     "locked": true,
     "schema_version": 3,
     "solution": false
    }
   },
   "source": [
    "c) Redo the last plot, and highlight the pair with the largest distance from the origin with a green square.  Assign this distance to the variable `maxdist`. "
   ]
  },
  {
   "cell_type": "code",
   "execution_count": 37,
   "metadata": {
    "deletable": false,
    "nbgrader": {
     "cell_type": "code",
     "checksum": "62436bc81d601d6a933036b7d3db1f8d",
     "grade": true,
     "grade_id": "cell-e02b94ee655b0586",
     "locked": false,
     "points": 1,
     "schema_version": 3,
     "solution": true
    }
   },
   "outputs": [
    {
     "ename": "IndexError",
     "evalue": "invalid index to scalar variable.",
     "output_type": "error",
     "traceback": [
      "\u001b[1;31m---------------------------------------------------------------------------\u001b[0m",
      "\u001b[1;31mIndexError\u001b[0m                                Traceback (most recent call last)",
      "\u001b[1;32m<ipython-input-37-301e4b8fb906>\u001b[0m in \u001b[0;36m<module>\u001b[1;34m\u001b[0m\n\u001b[0;32m      4\u001b[0m \u001b[0mmaxpt\u001b[0m \u001b[1;33m=\u001b[0m \u001b[0mmax\u001b[0m\u001b[1;33m(\u001b[0m\u001b[0mdistances\u001b[0m\u001b[1;33m)\u001b[0m\u001b[1;33m\u001b[0m\u001b[1;33m\u001b[0m\u001b[0m\n\u001b[0;32m      5\u001b[0m \u001b[0mhenon\u001b[0m\u001b[1;33m[\u001b[0m\u001b[0mnp\u001b[0m\u001b[1;33m.\u001b[0m\u001b[0margmax\u001b[0m\u001b[1;33m(\u001b[0m\u001b[0mdistances\u001b[0m\u001b[1;33m)\u001b[0m\u001b[1;33m]\u001b[0m\u001b[1;33m\u001b[0m\u001b[1;33m\u001b[0m\u001b[0m\n\u001b[1;32m----> 6\u001b[1;33m \u001b[0mplt\u001b[0m\u001b[1;33m.\u001b[0m\u001b[0mplot\u001b[0m\u001b[1;33m(\u001b[0m\u001b[0mmaxpt\u001b[0m\u001b[1;33m[\u001b[0m\u001b[1;36m0\u001b[0m\u001b[1;33m]\u001b[0m\u001b[1;33m,\u001b[0m \u001b[0mmaxpt\u001b[0m\u001b[1;33m[\u001b[0m\u001b[1;36m1\u001b[0m\u001b[1;33m]\u001b[0m\u001b[1;33m,\u001b[0m \u001b[1;34m\"g\"\u001b[0m\u001b[1;33m)\u001b[0m\u001b[1;33m\u001b[0m\u001b[1;33m\u001b[0m\u001b[0m\n\u001b[0m\u001b[0;32m      7\u001b[0m \u001b[0mplt\u001b[0m\u001b[1;33m.\u001b[0m\u001b[0mplot\u001b[0m\u001b[1;33m(\u001b[0m\u001b[0mhenon\u001b[0m\u001b[1;33m[\u001b[0m\u001b[1;33m:\u001b[0m\u001b[1;33m,\u001b[0m\u001b[1;36m0\u001b[0m\u001b[1;33m]\u001b[0m\u001b[1;33m,\u001b[0m \u001b[0mhenon\u001b[0m\u001b[1;33m[\u001b[0m\u001b[1;33m:\u001b[0m\u001b[1;33m,\u001b[0m\u001b[1;36m1\u001b[0m\u001b[1;33m]\u001b[0m\u001b[1;33m,\u001b[0m \u001b[1;34m\".\"\u001b[0m\u001b[1;33m,\u001b[0m \u001b[0mcolor\u001b[0m  \u001b[1;33m=\u001b[0m \u001b[1;34m\"red\"\u001b[0m\u001b[1;33m,\u001b[0m \u001b[0mmarkersize\u001b[0m \u001b[1;33m=\u001b[0m \u001b[1;36m0.1\u001b[0m\u001b[1;33m)\u001b[0m\u001b[1;33m\u001b[0m\u001b[1;33m\u001b[0m\u001b[0m\n",
      "\u001b[1;31mIndexError\u001b[0m: invalid index to scalar variable."
     ]
    }
   ],
   "source": [
    "henon = henon_sequence(100000)\n",
    "distances = np.sqrt(henon[:,0]**2 + henon[:,1]**2)\n",
    "\n",
    "maxdist = max(distances)\n",
    "henon[np.argmax(distances)]\n",
    "plt.plot(maxpt[0], maxpt[1], \"g\")\n",
    "plt.plot(henon[:,0], henon[:,1], \".\", color  = \"red\", markersize = 0.1)"
   ]
  },
  {
   "cell_type": "code",
   "execution_count": null,
   "metadata": {
    "deletable": false,
    "editable": false,
    "nbgrader": {
     "cell_type": "code",
     "checksum": "df1ad5dc0fdc84bd7f4b79c606831476",
     "grade": true,
     "grade_id": "cell-59353fcaab283e41",
     "locked": true,
     "points": 1,
     "schema_version": 3,
     "solution": false,
     "task": false
    }
   },
   "outputs": [],
   "source": [
    "assert maxdist>1.3"
   ]
  },
  {
   "cell_type": "markdown",
   "metadata": {
    "deletable": false,
    "editable": false,
    "nbgrader": {
     "cell_type": "markdown",
     "checksum": "1da572336ff01af65c60dafebce06612",
     "grade": false,
     "grade_id": "cell-135f14bc202522a4",
     "locked": true,
     "schema_version": 3,
     "solution": false
    }
   },
   "source": [
    "d) Redo the last plot and add two sliders, which allow you to change `a` in the interval from 0 to 1.4 in steps of 0.02 and `b` from 0 to 0.3 in steps of 0.01. "
   ]
  },
  {
   "cell_type": "code",
   "execution_count": null,
   "metadata": {
    "deletable": false,
    "nbgrader": {
     "cell_type": "code",
     "checksum": "836c01c651e4126a3fb9383c2af9fc85",
     "grade": true,
     "grade_id": "cell-6fd479b5bb2383ca",
     "locked": false,
     "points": 1,
     "schema_version": 3,
     "solution": true
    }
   },
   "outputs": [],
   "source": [
    "# YOUR CODE HERE\n",
    "raise NotImplementedError()"
   ]
  },
  {
   "cell_type": "markdown",
   "metadata": {},
   "source": [
    "# 2. Continuous Fractions and the Euclidean algorithm\n",
    "\n",
    "Continuous fractions and the related Euclidean algorithm have a long tradition in mathematics, going back more than 2000 years. For more background info see for example https://brilliant.org/wiki/continued-fractions/ .  One notable mathematician working in this field was [William Brouncker](https://en.wikipedia.org/wiki/William_Brouncker,_2nd_Viscount_Brouncker) (born 1620 in Castlelyons, close to Fermoy).\n",
    "\n",
    "a) Write a python function `cf_list(a,b)` which for two integer numbers $a\\geq b$ returns a list of integer numbers $[c_0,c_1, \\ldots, c_{n-1} ]$ obtained through the following rules (Euclidean algorithm): \n",
    "\n",
    "* Calculate $c_0 = a/b$ using integer devision. \n",
    "* Update $a$ and $b$ so that the new $a$ is the old $b$ and the new $b$ is $(a \\mod b)$.  \n",
    "* Then calculate $c_1 = a/b$ and update $a$ and $b$ again as before. \n",
    "* Continue this procedure and calculate $c_2,c_3, \\ldots$ until the updated $b$ is zero. Then return the list $[c_0,c_1,\\ldots]$.\n",
    "\n",
    "Hint: Integer division in python can be written as `a//b` and mod as `a%b`.  "
   ]
  },
  {
   "cell_type": "code",
   "execution_count": null,
   "metadata": {
    "deletable": false,
    "nbgrader": {
     "cell_type": "code",
     "checksum": "722b607628cb3cd0afd6dc7cb8370237",
     "grade": false,
     "grade_id": "cell-88c4709e7ed8fb78",
     "locked": false,
     "schema_version": 3,
     "solution": true
    }
   },
   "outputs": [],
   "source": [
    "def cf_list(a,b):\n",
    "    if b > a:\n",
    "        a, b = b, a\n",
    "    cf = []\n",
    "    \n",
    "    \n",
    "    cf.append(a // b)\n",
    "    a, b = b, a % b"
   ]
  },
  {
   "cell_type": "code",
   "execution_count": null,
   "metadata": {
    "deletable": false,
    "editable": false,
    "nbgrader": {
     "cell_type": "code",
     "checksum": "84b8d65552757384af506075eece8449",
     "grade": true,
     "grade_id": "cell-e706f87c61a26239",
     "locked": true,
     "points": 3,
     "schema_version": 3,
     "solution": false
    }
   },
   "outputs": [],
   "source": [
    "assert(cf_list(415,93)==[4,2,6,7])"
   ]
  },
  {
   "cell_type": "markdown",
   "metadata": {},
   "source": [
    "c) Now write a second function `cf_calc(clist)` which for a given list $[c_0,\\ldots,c_{n-1}]$ returns the fraction\n",
    "\\begin{equation}\n",
    "  x = c_0 + \\cfrac{1}{c_1\n",
    "          + \\cfrac{1}{c_2\n",
    "          + \\cfrac{1}{\\ddots + \\cfrac{1}{c_{n-1}} } } }\n",
    "\\end{equation}\n",
    "in the form of two numbers: the numerator and the denominator.\n",
    "\n",
    "Check that `cf_calc([4,2,6,7])` yields the pair `(415,93)` since\n",
    "\\begin{equation}\n",
    "  4 + \\cfrac{1}{2\n",
    "          + \\cfrac{1}{6\n",
    "          + \\cfrac{1}{7 } } } = \\frac{415}{93} \\approx 4.4623655914.\n",
    "\\end{equation}"
   ]
  },
  {
   "cell_type": "code",
   "execution_count": null,
   "metadata": {
    "deletable": false,
    "nbgrader": {
     "cell_type": "code",
     "checksum": "4c73b5a3561daabaca4e12efca3b138e",
     "grade": false,
     "grade_id": "cell-954f8eb4d2caeedf",
     "locked": false,
     "schema_version": 3,
     "solution": true
    }
   },
   "outputs": [],
   "source": [
    "def cf_calc(clist):\n",
    "    # YOUR CODE HERE\n",
    "    raise NotImplementedError()\n"
   ]
  },
  {
   "cell_type": "code",
   "execution_count": null,
   "metadata": {
    "deletable": false,
    "editable": false,
    "nbgrader": {
     "cell_type": "code",
     "checksum": "de96eedafaf610c7137d72c45e663c5e",
     "grade": true,
     "grade_id": "cell-48621cc4ff639c05",
     "locked": true,
     "points": 2.5,
     "schema_version": 3,
     "solution": false
    }
   },
   "outputs": [],
   "source": [
    "assert(cf_calc([4,2,6,7]) == (415,93))"
   ]
  },
  {
   "cell_type": "markdown",
   "metadata": {},
   "source": [
    "d) Calculate `cf_calc([1,1,1,1,1,1,1,1,1,1,1,1,1,1])` and compare with the golden ratio $(1+\\sqrt{5})/2$. "
   ]
  },
  {
   "cell_type": "code",
   "execution_count": null,
   "metadata": {
    "deletable": false,
    "nbgrader": {
     "cell_type": "code",
     "checksum": "deb1b95fbc76730f41ddf045d303bcdd",
     "grade": true,
     "grade_id": "cell-4d2feee5cfa3f87a",
     "locked": false,
     "points": 0.5,
     "schema_version": 3,
     "solution": true
    }
   },
   "outputs": [],
   "source": [
    "# YOUR CODE HERE\n",
    "raise NotImplementedError()"
   ]
  },
  {
   "cell_type": "markdown",
   "metadata": {},
   "source": [
    "e) Now use `cf_list()` to guess the continuous fraction of $\\sqrt{2}$. \n",
    "\n",
    "*Hint*: for a given float `q` and a suitably chosen large number `N`, use `cf_list(int(q*N), N)` and observe the emerging pattern as `N` increases. "
   ]
  },
  {
   "cell_type": "code",
   "execution_count": null,
   "metadata": {
    "deletable": false,
    "nbgrader": {
     "cell_type": "code",
     "checksum": "399206d6bb978f4dd1879b05d0872fc9",
     "grade": true,
     "grade_id": "cell-0f48a4c21dd57046",
     "locked": false,
     "points": 0.5,
     "schema_version": 3,
     "solution": true
    }
   },
   "outputs": [],
   "source": [
    "# YOUR CODE HERE\n",
    "raise NotImplementedError()"
   ]
  },
  {
   "cell_type": "markdown",
   "metadata": {},
   "source": [
    "f) Try to find the expansion for the Euler number $e$."
   ]
  },
  {
   "cell_type": "code",
   "execution_count": null,
   "metadata": {
    "deletable": false,
    "nbgrader": {
     "cell_type": "code",
     "checksum": "f8514ea2d9c59137a0ef6d966991d878",
     "grade": true,
     "grade_id": "ffgsdg",
     "locked": false,
     "points": 0.5,
     "schema_version": 3,
     "solution": true
    }
   },
   "outputs": [],
   "source": [
    "# YOUR CODE HERE\n",
    "raise NotImplementedError()"
   ]
  }
 ],
 "metadata": {
  "kernelspec": {
   "display_name": "Python 3",
   "language": "python",
   "name": "python3"
  },
  "language_info": {
   "codemirror_mode": {
    "name": "ipython",
    "version": 3
   },
   "file_extension": ".py",
   "mimetype": "text/x-python",
   "name": "python",
   "nbconvert_exporter": "python",
   "pygments_lexer": "ipython3",
   "version": "3.7.3"
  }
 },
 "nbformat": 4,
 "nbformat_minor": 1
}
